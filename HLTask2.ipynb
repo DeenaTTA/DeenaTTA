{
 "cells": [
  {
   "cell_type": "code",
   "execution_count": 19,
   "metadata": {},
   "outputs": [
    {
     "name": "stdout",
     "output_type": "stream",
     "text": [
      "Why do pirates stuggle to learn the alphabet? Because they always get stuck at 'c'!\n"
     ]
    }
   ],
   "source": [
    "a=int(input(\"What is your favorite number from 1 to 100?\"))\n",
    "if a>100 or a==0:\n",
    "  print(\"Invalid number\")\n",
    "elif(a % 2) ==0:\n",
    "  print(\"What's the best thing about Switzerland? I don't know but the flag is a big plus\")\n",
    "elif(a % 2) !=0 and (a % 5) !=0:\n",
    "  print(\"Why do pirates stuggle to learn the alphabet? Because they always get stuck at 'c'!\")\n",
    "elif(a % 5) ==0:\n",
    "  print(\"Why don't scientists trust atoms? Because they make up everything\")\n",
    "elif a>100 or a==0:\n",
    "  print(\"Invalid number\")\n",
    "\n",
    "  \n",
    "\n",
    "\n"
   ]
  }
 ],
 "metadata": {
  "interpreter": {
   "hash": "b89b5cfaba6639976dc87ff2fec6d58faec662063367e2c229c520fe71072417"
  },
  "kernelspec": {
   "display_name": "Python 3.10.0 64-bit",
   "name": "python3"
  },
  "language_info": {
   "codemirror_mode": {
    "name": "ipython",
    "version": 3
   },
   "file_extension": ".py",
   "mimetype": "text/x-python",
   "name": "python",
   "nbconvert_exporter": "python",
   "pygments_lexer": "ipython3",
   "version": "3.10.0"
  },
  "orig_nbformat": 4
 },
 "nbformat": 4,
 "nbformat_minor": 2
}
