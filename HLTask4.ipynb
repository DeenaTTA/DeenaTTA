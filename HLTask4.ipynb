{
 "cells": [
  {
   "cell_type": "code",
   "execution_count": 7,
   "metadata": {},
   "outputs": [
    {
     "name": "stdout",
     "output_type": "stream",
     "text": [
      "£20000\n",
      "£18000.0\n",
      "£16200.0\n",
      "£14580.0\n",
      "£13122.0\n",
      "£11809.800000000001\n",
      "£10628.820000000002\n",
      "£9565.938000000002\n",
      "£8609.344200000001\n",
      "£7748.409780000002\n",
      "£6973.568802000002\n",
      "£6276.211921800002\n",
      "£5648.590729620001\n",
      "£5083.731656658001\n",
      "£4575.358490992201\n",
      "£4117.822641892981\n",
      "£3706.0403777036827\n",
      "£3335.4363399333147\n",
      "£3001.8927059399834\n",
      "£2701.7034353459853\n",
      "£2431.533091811387\n",
      "£2188.3797826302484\n",
      "£1969.5418043672237\n",
      "£1772.5876239305014\n",
      "£1595.3288615374513\n",
      "£1435.7959753837063\n",
      "£1292.2163778453357\n",
      "£1162.994740060802\n",
      "£1046.695266054722\n"
     ]
    }
   ],
   "source": [
    "x=2000\n",
    "while x>=1000:\n",
    "   print(\"£\"+str(x))\n",
    "   x=x*0.9\n"
   ]
  }
 ],
 "metadata": {
  "interpreter": {
   "hash": "b89b5cfaba6639976dc87ff2fec6d58faec662063367e2c229c520fe71072417"
  },
  "kernelspec": {
   "display_name": "Python 3.10.0 64-bit",
   "name": "python3"
  },
  "language_info": {
   "codemirror_mode": {
    "name": "ipython",
    "version": 3
   },
   "file_extension": ".py",
   "mimetype": "text/x-python",
   "name": "python",
   "nbconvert_exporter": "python",
   "pygments_lexer": "ipython3",
   "version": "3.10.0"
  },
  "orig_nbformat": 4
 },
 "nbformat": 4,
 "nbformat_minor": 2
}
