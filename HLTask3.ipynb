{
 "cells": [
  {
   "cell_type": "code",
   "execution_count": 5,
   "metadata": {},
   "outputs": [
    {
     "name": "stdout",
     "output_type": "stream",
     "text": [
      "Your Favourite Meal is prawn coctail with lamb shank with fruit trifle with a glass of beer\n"
     ]
    }
   ],
   "source": [
    "a=(input(\"Whats your favourite Starter?\"))\n",
    "b=(input(\"Whats your favourite Maincourse?\"))\n",
    "c=(input(\"Whats your favourite Dessert?\"))\n",
    "d=(input(\"Whats your favourite Drink?\"))\n",
    "print(\"Your Favourite Meal is \"+ str (a) + \" with \"+ str (b) + \" with \" + str (c) + \" with a glass of \" + str (d))"
   ]
  }
 ],
 "metadata": {
  "interpreter": {
   "hash": "b89b5cfaba6639976dc87ff2fec6d58faec662063367e2c229c520fe71072417"
  },
  "kernelspec": {
   "display_name": "Python 3.10.0 64-bit",
   "name": "python3"
  },
  "language_info": {
   "codemirror_mode": {
    "name": "ipython",
    "version": 3
   },
   "file_extension": ".py",
   "mimetype": "text/x-python",
   "name": "python",
   "nbconvert_exporter": "python",
   "pygments_lexer": "ipython3",
   "version": "3.10.0"
  },
  "orig_nbformat": 4
 },
 "nbformat": 4,
 "nbformat_minor": 2
}
