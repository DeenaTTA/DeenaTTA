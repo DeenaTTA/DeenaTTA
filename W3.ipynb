{
 "cells": [
  {
   "cell_type": "code",
   "execution_count": 1,
   "metadata": {},
   "outputs": [
    {
     "name": "stdout",
     "output_type": "stream",
     "text": [
      "[1, 2, 3, 4, 5]\n"
     ]
    }
   ],
   "source": [
    "my_id_list=[1,2,3,4,5]\n",
    "print (my_id_list)\n"
   ]
  },
  {
   "cell_type": "code",
   "execution_count": 12,
   "metadata": {},
   "outputs": [
    {
     "name": "stdout",
     "output_type": "stream",
     "text": [
      "my list at value 0 is 1\n",
      "4\n",
      "[3, 4]\n",
      "my list at value 1 is 2\n",
      "4\n",
      "[3, 4]\n",
      "my list at value 2 is 3\n",
      "4\n",
      "[3, 4]\n",
      "my list at value 3 is 4\n",
      "4\n",
      "[3, 4]\n",
      "my list at value 4 is 5\n",
      "4\n",
      "[3, 4]\n"
     ]
    }
   ],
   "source": [
    "for i in range(len(my_id_list)):\n",
    " print(\"my list at value\" ,i,\"is\" , my_id_list[i] )\n",
    " print(my_id_list[3])\n",
    " print(my_id_list[2:4])"
   ]
  },
  {
   "cell_type": "code",
   "execution_count": 25,
   "metadata": {},
   "outputs": [
    {
     "name": "stdout",
     "output_type": "stream",
     "text": [
      "[[1, 2, 3, 4], [3, 4, 5, 6], [2, 3, 4, 5]]\n",
      "my list at value 0 is [1, 2, 3, 4]\n",
      "2\n",
      "my list at value 1 is [3, 4, 5, 6]\n",
      "2\n",
      "my list at value 2 is [2, 3, 4, 5]\n",
      "2\n"
     ]
    }
   ],
   "source": [
    "my_2d_list=[[1,2,3,4],\n",
    "           [3,4,5,6],\n",
    "           [2,3,4,5]]\n",
    "print(my_2d_list)\n",
    "for i in range(len(my_2d_list)):\n",
    "   print(\"my list at value\" ,i,\"is\" , my_2d_list[i] )\n",
    "   print(my_2d_list[0][1])\n",
    "    \n",
    " "
   ]
  },
  {
   "cell_type": "code",
   "execution_count": 34,
   "metadata": {},
   "outputs": [
    {
     "name": "stdout",
     "output_type": "stream",
     "text": [
      "n\n",
      "deen\n",
      "5\n",
      "mycharacter at value 0 is d\n",
      "en\n",
      "mycharacter at value 1 is e\n",
      "en\n",
      "mycharacter at value 2 is e\n",
      "en\n",
      "mycharacter at value 3 is n\n",
      "en\n",
      "mycharacter at value 4 is a\n",
      "en\n"
     ]
    }
   ],
   "source": [
    "text=(\"deena\")\n",
    "print(text[3])\n",
    "print(text[0:4])\n",
    "print(len(text))\n",
    "for i in range(len(text)):\n",
    "    print (\"mycharacter at value\",i,\"is\",text[i])\n",
    "    print(text[2:4])"
   ]
  },
  {
   "cell_type": "code",
   "execution_count": 42,
   "metadata": {},
   "outputs": [],
   "source": [
    "my_filew3=open(\"w3_new_file.txt\",\"w\")\n",
    "for i in range(20):\n",
    " my_filew3.write(str(i))\n",
    "   # my_filew3.write(\"\")\n",
    "my_filew3.close()"
   ]
  },
  {
   "cell_type": "code",
   "execution_count": 45,
   "metadata": {},
   "outputs": [
    {
     "name": "stdout",
     "output_type": "stream",
     "text": [
      "012345678910111213141516171819\n"
     ]
    }
   ],
   "source": [
    "with open(\"w3_new_file.txt\",\"r\") as myfile:\n",
    "    data=myfile.read()\n",
    "    myfile.close()\n",
    "    print(data)"
   ]
  },
  {
   "cell_type": "code",
   "execution_count": 47,
   "metadata": {},
   "outputs": [],
   "source": [
    "my_afile=open(\"w3_new_file.txt\",\"a\")\n",
    "my_afile.write(\"111111111111111\")\n",
    "my_afile.close()"
   ]
  },
  {
   "cell_type": "code",
   "execution_count": 73,
   "metadata": {},
   "outputs": [
    {
     "name": "stdout",
     "output_type": "stream",
     "text": [
      "3\n",
      "45\n",
      "83\n",
      "21\n",
      "3\n",
      "45\n",
      "83\n",
      "21\n",
      "given numbers\n"
     ]
    }
   ],
   "source": [
    "#HL Task1 - W3\n",
    "my_hlfile=open(\"numbers.txt\",\"w\")\n",
    "my_hlfile.write(str(3))\n",
    "my_hlfile.write(\"\\n\")\n",
    "my_hlfile.write(str(45))\n",
    "my_hlfile.write(\"\\n\")\n",
    "my_hlfile.write(str(83))\n",
    "my_hlfile.write(\"\\n\")\n",
    "my_hlfile.write(str(21))\n",
    "my_hlfile.close()\n",
    "\n",
    "#Read\n",
    "with open(\"numbers.txt\",\"r\")as myfilew3:\n",
    "    data=myfilew3.read()\n",
    "    myfilew3.close()\n",
    "    print(data)\n",
    "\n",
    " # Append\n",
    "myfile=open(\"numbers.txt\",\"a\")\n",
    "myfile.write(\"\\n\"\"given numbers\")\n",
    "myfile.close()\n",
    "#Read\n",
    "with open(\"numbers.txt\",\"r\")as myfilew3:\n",
    "    data=myfilew3.read()\n",
    "    myfilew3.close()\n",
    "    print(data)\n",
    "\n"
   ]
  },
  {
   "cell_type": "code",
   "execution_count": 4,
   "metadata": {},
   "outputs": [],
   "source": [
    "def mark_grade ():\n",
    "  mark= int (input (\"Whats your Percentage?\"))\n",
    "  if(mark<50): \n",
    "    output=\"Fail\"\n",
    "  elif(mark >=50 and mark<60):\n",
    "    output=\"Grade C\"\n",
    "  elif(mark >=60 and mark<80):\n",
    "    output=\"Grade B\"\n",
    "  if(mark >=80 and mark<=100):\n",
    "    output=\"Grade A\"\n",
    "  return output \n",
    "\n",
    "\n"
   ]
  },
  {
   "cell_type": "code",
   "execution_count": 6,
   "metadata": {},
   "outputs": [
    {
     "name": "stdout",
     "output_type": "stream",
     "text": [
      "Grade A\n"
     ]
    }
   ],
   "source": [
    "message= mark_grade()\n",
    "print(message)"
   ]
  }
 ],
 "metadata": {
  "interpreter": {
   "hash": "b89b5cfaba6639976dc87ff2fec6d58faec662063367e2c229c520fe71072417"
  },
  "kernelspec": {
   "display_name": "Python 3.10.0 64-bit",
   "language": "python",
   "name": "python3"
  },
  "language_info": {
   "codemirror_mode": {
    "name": "ipython",
    "version": 3
   },
   "file_extension": ".py",
   "mimetype": "text/x-python",
   "name": "python",
   "nbconvert_exporter": "python",
   "pygments_lexer": "ipython3",
   "version": "3.10.0"
  },
  "orig_nbformat": 4
 },
 "nbformat": 4,
 "nbformat_minor": 2
}
